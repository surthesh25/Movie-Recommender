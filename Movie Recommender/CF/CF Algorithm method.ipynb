{
 "cells": [
  {
   "cell_type": "markdown",
   "metadata": {},
   "source": [
    "## CS 504 Final Project\n",
    "\n",
    "### Team Name: TopGun\n",
    "\n",
    "### Collaborative Filtering - Ullman Method\n",
    "\n",
    "#### Team Members: \n",
    "\n",
    "Yeswanth Ravichandran G01480449\n",
    "\n",
    "Surthesh Velu Samy - G01520635\n",
    "\n",
    "Aakiff Panjwani - G01465365"
   ]
  },
  {
   "cell_type": "markdown",
   "metadata": {},
   "source": [
    "Importing Necessary libraries"
   ]
  },
  {
   "cell_type": "code",
   "execution_count": 1,
   "metadata": {},
   "outputs": [],
   "source": [
    "import pandas as pd\n",
    "import numpy as np\n",
    "import matplotlib.pyplot as plt\n",
    "import seaborn as sns\n",
    "from sklearn.model_selection import train_test_split\n",
    "from collections import defaultdict\n",
    "from sklearn.metrics import pairwise_distances\n",
    "from math import sqrt\n",
    "from sklearn.metrics import mean_squared_error\n",
    "import time\n",
    "\n",
    "import warnings\n",
    "warnings.filterwarnings('ignore')"
   ]
  },
  {
   "cell_type": "markdown",
   "metadata": {},
   "source": [
    "Loading the Datasets \"ratings\" & 'movies'"
   ]
  },
  {
   "cell_type": "code",
   "execution_count": 2,
   "metadata": {},
   "outputs": [],
   "source": [
    "ratings = pd.read_csv('../Dataset/ratings.csv')"
   ]
  },
  {
   "cell_type": "code",
   "execution_count": 3,
   "metadata": {},
   "outputs": [
    {
     "data": {
      "text/html": [
       "<div>\n",
       "<style scoped>\n",
       "    .dataframe tbody tr th:only-of-type {\n",
       "        vertical-align: middle;\n",
       "    }\n",
       "\n",
       "    .dataframe tbody tr th {\n",
       "        vertical-align: top;\n",
       "    }\n",
       "\n",
       "    .dataframe thead th {\n",
       "        text-align: right;\n",
       "    }\n",
       "</style>\n",
       "<table border=\"1\" class=\"dataframe\">\n",
       "  <thead>\n",
       "    <tr style=\"text-align: right;\">\n",
       "      <th></th>\n",
       "      <th>userId</th>\n",
       "      <th>movieId</th>\n",
       "      <th>rating</th>\n",
       "      <th>timestamp</th>\n",
       "    </tr>\n",
       "  </thead>\n",
       "  <tbody>\n",
       "    <tr>\n",
       "      <th>0</th>\n",
       "      <td>1</td>\n",
       "      <td>1</td>\n",
       "      <td>4.0</td>\n",
       "      <td>964982703</td>\n",
       "    </tr>\n",
       "    <tr>\n",
       "      <th>1</th>\n",
       "      <td>1</td>\n",
       "      <td>3</td>\n",
       "      <td>4.0</td>\n",
       "      <td>964981247</td>\n",
       "    </tr>\n",
       "    <tr>\n",
       "      <th>2</th>\n",
       "      <td>1</td>\n",
       "      <td>6</td>\n",
       "      <td>4.0</td>\n",
       "      <td>964982224</td>\n",
       "    </tr>\n",
       "    <tr>\n",
       "      <th>3</th>\n",
       "      <td>1</td>\n",
       "      <td>47</td>\n",
       "      <td>5.0</td>\n",
       "      <td>964983815</td>\n",
       "    </tr>\n",
       "    <tr>\n",
       "      <th>4</th>\n",
       "      <td>1</td>\n",
       "      <td>50</td>\n",
       "      <td>5.0</td>\n",
       "      <td>964982931</td>\n",
       "    </tr>\n",
       "  </tbody>\n",
       "</table>\n",
       "</div>"
      ],
      "text/plain": [
       "   userId  movieId  rating  timestamp\n",
       "0       1        1     4.0  964982703\n",
       "1       1        3     4.0  964981247\n",
       "2       1        6     4.0  964982224\n",
       "3       1       47     5.0  964983815\n",
       "4       1       50     5.0  964982931"
      ]
     },
     "execution_count": 3,
     "metadata": {},
     "output_type": "execute_result"
    }
   ],
   "source": [
    "ratings.head()"
   ]
  },
  {
   "cell_type": "code",
   "execution_count": 4,
   "metadata": {},
   "outputs": [
    {
     "data": {
      "text/html": [
       "<div>\n",
       "<style scoped>\n",
       "    .dataframe tbody tr th:only-of-type {\n",
       "        vertical-align: middle;\n",
       "    }\n",
       "\n",
       "    .dataframe tbody tr th {\n",
       "        vertical-align: top;\n",
       "    }\n",
       "\n",
       "    .dataframe thead th {\n",
       "        text-align: right;\n",
       "    }\n",
       "</style>\n",
       "<table border=\"1\" class=\"dataframe\">\n",
       "  <thead>\n",
       "    <tr style=\"text-align: right;\">\n",
       "      <th></th>\n",
       "      <th>movieId</th>\n",
       "      <th>title</th>\n",
       "      <th>genres</th>\n",
       "    </tr>\n",
       "  </thead>\n",
       "  <tbody>\n",
       "    <tr>\n",
       "      <th>0</th>\n",
       "      <td>1</td>\n",
       "      <td>Toy Story (1995)</td>\n",
       "      <td>Adventure|Animation|Children|Comedy|Fantasy</td>\n",
       "    </tr>\n",
       "    <tr>\n",
       "      <th>1</th>\n",
       "      <td>2</td>\n",
       "      <td>Jumanji (1995)</td>\n",
       "      <td>Adventure|Children|Fantasy</td>\n",
       "    </tr>\n",
       "    <tr>\n",
       "      <th>2</th>\n",
       "      <td>3</td>\n",
       "      <td>Grumpier Old Men (1995)</td>\n",
       "      <td>Comedy|Romance</td>\n",
       "    </tr>\n",
       "    <tr>\n",
       "      <th>3</th>\n",
       "      <td>4</td>\n",
       "      <td>Waiting to Exhale (1995)</td>\n",
       "      <td>Comedy|Drama|Romance</td>\n",
       "    </tr>\n",
       "    <tr>\n",
       "      <th>4</th>\n",
       "      <td>5</td>\n",
       "      <td>Father of the Bride Part II (1995)</td>\n",
       "      <td>Comedy</td>\n",
       "    </tr>\n",
       "  </tbody>\n",
       "</table>\n",
       "</div>"
      ],
      "text/plain": [
       "   movieId                               title  \\\n",
       "0        1                    Toy Story (1995)   \n",
       "1        2                      Jumanji (1995)   \n",
       "2        3             Grumpier Old Men (1995)   \n",
       "3        4            Waiting to Exhale (1995)   \n",
       "4        5  Father of the Bride Part II (1995)   \n",
       "\n",
       "                                        genres  \n",
       "0  Adventure|Animation|Children|Comedy|Fantasy  \n",
       "1                   Adventure|Children|Fantasy  \n",
       "2                               Comedy|Romance  \n",
       "3                         Comedy|Drama|Romance  \n",
       "4                                       Comedy  "
      ]
     },
     "execution_count": 4,
     "metadata": {},
     "output_type": "execute_result"
    }
   ],
   "source": [
    "movies = pd.read_csv('../Dataset/movies.csv')\n",
    "movies.head()"
   ]
  },
  {
   "cell_type": "markdown",
   "metadata": {},
   "source": [
    "#### Summary Statistics"
   ]
  },
  {
   "cell_type": "code",
   "execution_count": 5,
   "metadata": {},
   "outputs": [
    {
     "name": "stdout",
     "output_type": "stream",
     "text": [
      "<class 'pandas.core.frame.DataFrame'>\n",
      "RangeIndex: 9742 entries, 0 to 9741\n",
      "Data columns (total 3 columns):\n",
      " #   Column   Non-Null Count  Dtype \n",
      "---  ------   --------------  ----- \n",
      " 0   movieId  9742 non-null   int64 \n",
      " 1   title    9742 non-null   object\n",
      " 2   genres   9742 non-null   object\n",
      "dtypes: int64(1), object(2)\n",
      "memory usage: 228.5+ KB\n"
     ]
    }
   ],
   "source": [
    "movies.info()"
   ]
  },
  {
   "cell_type": "code",
   "execution_count": 6,
   "metadata": {},
   "outputs": [
    {
     "name": "stdout",
     "output_type": "stream",
     "text": [
      "<class 'pandas.core.frame.DataFrame'>\n",
      "RangeIndex: 100836 entries, 0 to 100835\n",
      "Data columns (total 4 columns):\n",
      " #   Column     Non-Null Count   Dtype  \n",
      "---  ------     --------------   -----  \n",
      " 0   userId     100836 non-null  int64  \n",
      " 1   movieId    100836 non-null  int64  \n",
      " 2   rating     100836 non-null  float64\n",
      " 3   timestamp  100836 non-null  int64  \n",
      "dtypes: float64(1), int64(3)\n",
      "memory usage: 3.1 MB\n"
     ]
    }
   ],
   "source": [
    "ratings.info()"
   ]
  },
  {
   "cell_type": "code",
   "execution_count": 7,
   "metadata": {},
   "outputs": [
    {
     "data": {
      "text/html": [
       "<div>\n",
       "<style scoped>\n",
       "    .dataframe tbody tr th:only-of-type {\n",
       "        vertical-align: middle;\n",
       "    }\n",
       "\n",
       "    .dataframe tbody tr th {\n",
       "        vertical-align: top;\n",
       "    }\n",
       "\n",
       "    .dataframe thead th {\n",
       "        text-align: right;\n",
       "    }\n",
       "</style>\n",
       "<table border=\"1\" class=\"dataframe\">\n",
       "  <thead>\n",
       "    <tr style=\"text-align: right;\">\n",
       "      <th></th>\n",
       "      <th>userId</th>\n",
       "      <th>movieId</th>\n",
       "      <th>rating</th>\n",
       "      <th>timestamp</th>\n",
       "    </tr>\n",
       "  </thead>\n",
       "  <tbody>\n",
       "    <tr>\n",
       "      <th>count</th>\n",
       "      <td>100836.000000</td>\n",
       "      <td>100836.000000</td>\n",
       "      <td>100836.000000</td>\n",
       "      <td>1.008360e+05</td>\n",
       "    </tr>\n",
       "    <tr>\n",
       "      <th>mean</th>\n",
       "      <td>326.127564</td>\n",
       "      <td>19435.295718</td>\n",
       "      <td>3.501557</td>\n",
       "      <td>1.205946e+09</td>\n",
       "    </tr>\n",
       "    <tr>\n",
       "      <th>std</th>\n",
       "      <td>182.618491</td>\n",
       "      <td>35530.987199</td>\n",
       "      <td>1.042529</td>\n",
       "      <td>2.162610e+08</td>\n",
       "    </tr>\n",
       "    <tr>\n",
       "      <th>min</th>\n",
       "      <td>1.000000</td>\n",
       "      <td>1.000000</td>\n",
       "      <td>0.500000</td>\n",
       "      <td>8.281246e+08</td>\n",
       "    </tr>\n",
       "    <tr>\n",
       "      <th>25%</th>\n",
       "      <td>177.000000</td>\n",
       "      <td>1199.000000</td>\n",
       "      <td>3.000000</td>\n",
       "      <td>1.019124e+09</td>\n",
       "    </tr>\n",
       "    <tr>\n",
       "      <th>50%</th>\n",
       "      <td>325.000000</td>\n",
       "      <td>2991.000000</td>\n",
       "      <td>3.500000</td>\n",
       "      <td>1.186087e+09</td>\n",
       "    </tr>\n",
       "    <tr>\n",
       "      <th>75%</th>\n",
       "      <td>477.000000</td>\n",
       "      <td>8122.000000</td>\n",
       "      <td>4.000000</td>\n",
       "      <td>1.435994e+09</td>\n",
       "    </tr>\n",
       "    <tr>\n",
       "      <th>max</th>\n",
       "      <td>610.000000</td>\n",
       "      <td>193609.000000</td>\n",
       "      <td>5.000000</td>\n",
       "      <td>1.537799e+09</td>\n",
       "    </tr>\n",
       "  </tbody>\n",
       "</table>\n",
       "</div>"
      ],
      "text/plain": [
       "              userId        movieId         rating     timestamp\n",
       "count  100836.000000  100836.000000  100836.000000  1.008360e+05\n",
       "mean      326.127564   19435.295718       3.501557  1.205946e+09\n",
       "std       182.618491   35530.987199       1.042529  2.162610e+08\n",
       "min         1.000000       1.000000       0.500000  8.281246e+08\n",
       "25%       177.000000    1199.000000       3.000000  1.019124e+09\n",
       "50%       325.000000    2991.000000       3.500000  1.186087e+09\n",
       "75%       477.000000    8122.000000       4.000000  1.435994e+09\n",
       "max       610.000000  193609.000000       5.000000  1.537799e+09"
      ]
     },
     "execution_count": 7,
     "metadata": {},
     "output_type": "execute_result"
    }
   ],
   "source": [
    "ratings.describe()"
   ]
  },
  {
   "cell_type": "code",
   "execution_count": 8,
   "metadata": {},
   "outputs": [
    {
     "name": "stdout",
     "output_type": "stream",
     "text": [
      "Number of unique users: 610\n",
      "Number of unique movies: 9724\n",
      "Number of unique genres: 951\n",
      "userId       0\n",
      "movieId      0\n",
      "rating       0\n",
      "timestamp    0\n",
      "dtype: int64\n",
      "movieId    0\n",
      "title      0\n",
      "genres     0\n",
      "dtype: int64\n"
     ]
    }
   ],
   "source": [
    "# Unique counts\n",
    "print(f\"Number of unique users: {ratings['userId'].nunique()}\")\n",
    "print(f\"Number of unique movies: {ratings['movieId'].nunique()}\")\n",
    "print(f\"Number of unique genres: {movies['genres'].nunique()}\")\n",
    "\n",
    "# Check for missing values\n",
    "print(ratings.isnull().sum())\n",
    "print(movies.isnull().sum())\n"
   ]
  },
  {
   "cell_type": "markdown",
   "metadata": {},
   "source": [
    "#### Exploratory Data Analysis"
   ]
  },
  {
   "cell_type": "code",
   "execution_count": 9,
   "metadata": {},
   "outputs": [
    {
     "data": {
      "image/png": "[encoded data removed]",
      "text/plain": [
       "<Figure size 640x480 with 1 Axes>"
      ]
     },
     "metadata": {},
     "output_type": "display_data"
    }
   ],
   "source": [
    "sns.histplot(ratings['rating'], bins=5, kde=False, color='lightgreen')\n",
    "plt.title('Distribution of Ratings')\n",
    "plt.xlabel('Rating')\n",
    "plt.ylabel('Count')\n",
    "plt.show()\n"
   ]
  },
  {
   "cell_type": "code",
   "execution_count": 10,
   "metadata": {},
   "outputs": [
    {
     "name": "stdout",
     "output_type": "stream",
     "text": [
      "movieId\n",
      "356     329\n",
      "318     317\n",
      "296     307\n",
      "593     279\n",
      "2571    278\n",
      "Name: rating, dtype: int64\n"
     ]
    }
   ],
   "source": [
    "# Count of ratings per movie\n",
    "movie_ratings_count = ratings.groupby('movieId')['rating'].count().sort_values(ascending=False)\n",
    "print(movie_ratings_count.head())"
   ]
  },
  {
   "cell_type": "code",
   "execution_count": 11,
   "metadata": {},
   "outputs": [
    {
     "name": "stdout",
     "output_type": "stream",
     "text": [
      "movieId\n",
      "88448     5.0\n",
      "100556    5.0\n",
      "143031    5.0\n",
      "143511    5.0\n",
      "143559    5.0\n",
      "Name: rating, dtype: float64\n"
     ]
    }
   ],
   "source": [
    "# Average rating per movie\n",
    "movie_ratings_avg = ratings.groupby('movieId')['rating'].mean().sort_values(ascending=False)\n",
    "print(movie_ratings_avg.head())"
   ]
  },
  {
   "cell_type": "code",
   "execution_count": 12,
   "metadata": {},
   "outputs": [
    {
     "data": {
      "text/html": [
       "<div>\n",
       "<style scoped>\n",
       "    .dataframe tbody tr th:only-of-type {\n",
       "        vertical-align: middle;\n",
       "    }\n",
       "\n",
       "    .dataframe tbody tr th {\n",
       "        vertical-align: top;\n",
       "    }\n",
       "\n",
       "    .dataframe thead th {\n",
       "        text-align: right;\n",
       "    }\n",
       "</style>\n",
       "<table border=\"1\" class=\"dataframe\">\n",
       "  <thead>\n",
       "    <tr style=\"text-align: right;\">\n",
       "      <th></th>\n",
       "      <th>movieId</th>\n",
       "      <th>title</th>\n",
       "      <th>genres</th>\n",
       "      <th>rating_count</th>\n",
       "    </tr>\n",
       "  </thead>\n",
       "  <tbody>\n",
       "    <tr>\n",
       "      <th>0</th>\n",
       "      <td>1</td>\n",
       "      <td>Toy Story (1995)</td>\n",
       "      <td>Adventure|Animation|Children|Comedy|Fantasy</td>\n",
       "      <td>215.0</td>\n",
       "    </tr>\n",
       "    <tr>\n",
       "      <th>1</th>\n",
       "      <td>2</td>\n",
       "      <td>Jumanji (1995)</td>\n",
       "      <td>Adventure|Children|Fantasy</td>\n",
       "      <td>110.0</td>\n",
       "    </tr>\n",
       "    <tr>\n",
       "      <th>2</th>\n",
       "      <td>3</td>\n",
       "      <td>Grumpier Old Men (1995)</td>\n",
       "      <td>Comedy|Romance</td>\n",
       "      <td>52.0</td>\n",
       "    </tr>\n",
       "    <tr>\n",
       "      <th>3</th>\n",
       "      <td>4</td>\n",
       "      <td>Waiting to Exhale (1995)</td>\n",
       "      <td>Comedy|Drama|Romance</td>\n",
       "      <td>7.0</td>\n",
       "    </tr>\n",
       "    <tr>\n",
       "      <th>4</th>\n",
       "      <td>5</td>\n",
       "      <td>Father of the Bride Part II (1995)</td>\n",
       "      <td>Comedy</td>\n",
       "      <td>49.0</td>\n",
       "    </tr>\n",
       "  </tbody>\n",
       "</table>\n",
       "</div>"
      ],
      "text/plain": [
       "   movieId                               title  \\\n",
       "0        1                    Toy Story (1995)   \n",
       "1        2                      Jumanji (1995)   \n",
       "2        3             Grumpier Old Men (1995)   \n",
       "3        4            Waiting to Exhale (1995)   \n",
       "4        5  Father of the Bride Part II (1995)   \n",
       "\n",
       "                                        genres  rating_count  \n",
       "0  Adventure|Animation|Children|Comedy|Fantasy         215.0  \n",
       "1                   Adventure|Children|Fantasy         110.0  \n",
       "2                               Comedy|Romance          52.0  \n",
       "3                         Comedy|Drama|Romance           7.0  \n",
       "4                                       Comedy          49.0  "
      ]
     },
     "metadata": {},
     "output_type": "display_data"
    }
   ],
   "source": [
    "# Merge with movies dataset to get titles\n",
    "popular_movies = movies.merge(movie_ratings_count, on='movieId', how='left')\n",
    "popular_movies.columns = ['movieId', 'title', 'genres', 'rating_count']\n",
    "display(popular_movies.head())"
   ]
  },
  {
   "cell_type": "code",
   "execution_count": 13,
   "metadata": {},
   "outputs": [
    {
     "data": {
      "image/png": "[encoded data removed]",
      "text/plain": [
       "<Figure size 640x480 with 1 Axes>"
      ]
     },
     "metadata": {},
     "output_type": "display_data"
    }
   ],
   "source": [
    "user_ratings_count = ratings.groupby('userId')['rating'].count()\n",
    "\n",
    "# Plot user activity distribution\n",
    "sns.histplot(user_ratings_count, bins=30, kde=False, color='green')\n",
    "plt.title('Distribution of Ratings per User')\n",
    "plt.xlabel('Number of Ratings')\n",
    "plt.ylabel('Count')\n",
    "plt.show()\n"
   ]
  },
  {
   "cell_type": "code",
   "execution_count": 14,
   "metadata": {},
   "outputs": [
    {
     "data": {
      "image/png": "[encoded data removed]",
      "text/plain": [
       "<Figure size 1000x500 with 1 Axes>"
      ]
     },
     "metadata": {},
     "output_type": "display_data"
    }
   ],
   "source": [
    "movies['genres_list'] = movies['genres'].str.split('|')\n",
    "all_genres = movies.explode('genres_list')['genres_list']\n",
    "genre_count = all_genres.value_counts()\n",
    "\n",
    "genre_count.plot(kind='bar', color='purple', figsize=(10, 5))\n",
    "plt.title('Genre Distribution')\n",
    "plt.xlabel('Genre')\n",
    "plt.ylabel('Count')\n",
    "plt.show()\n"
   ]
  },
  {
   "cell_type": "markdown",
   "metadata": {},
   "source": [
    "#### Collaborative Filtering (CF)"
   ]
  },
  {
   "cell_type": "markdown",
   "metadata": {},
   "source": [
    "#### Ullman Method \n",
    "\n",
    "The `calculation_ullman` function computes the similarity matrix using Pearson correlation between movies, while handling NaN values by replacing them with zeros. The `prediction_ullman` function predicts ratings by calculating a weighted sum of the movie-centered matrix, normalizing by the sum of weights, and adding the user's mean ratings. The `calculate_rmse` function computes the Root Mean Squared Error (RMSE) between true and predicted ratings, excluding NaN values to ensure accurate error measurement."
   ]
  },
  {
   "cell_type": "code",
   "execution_count": 15,
   "metadata": {},
   "outputs": [],
   "source": [
    "# Ullman Method with NaN and Division Handling\n",
    "def calculation_ullman(movie_centered):\n",
    "    similarity_matrix = np.corrcoef(movie_centered.T)\n",
    "    similarity_matrix = np.nan_to_num(similarity_matrix, nan=0.0)  \n",
    "    return similarity_matrix\n",
    "\n",
    "# Prediction Function\n",
    "def prediction_ullman(similarity_matrix, movie_centered, user_means):\n",
    "    weighted_sum = similarity_matrix.dot(movie_centered.T)\n",
    "    sum_of_weights = np.abs(similarity_matrix).sum(axis=1, keepdims=True)\n",
    "    sum_of_weights[sum_of_weights == 0] = 1e-10  # to Avoid divide by zero\n",
    "    predictions = weighted_sum / sum_of_weights\n",
    "\n",
    "    user_means_aligned = user_means.values[:, np.newaxis]\n",
    "    return predictions.T + user_means_aligned\n",
    "\n",
    "# Function to calculate RMSE\n",
    "def calculate_rmse(y_true, y_pred):\n",
    "    mask = ~np.isnan(y_true) & ~np.isnan(y_pred)\n",
    "    y_true_filtered = y_true[mask]\n",
    "    y_pred_filtered = y_pred[mask]\n",
    "    rmse = sqrt(mean_squared_error(y_true_filtered, y_pred_filtered))\n",
    "    return rmse"
   ]
  },
  {
   "cell_type": "markdown",
   "metadata": {},
   "source": [
    "#### 60-40 train-test split\n",
    "\n",
    "The ratings data is split into training and testing sets in 60% and 40% respectively. Movie ratings are centered around their averages, and a similarity matrix is computed to predict missing ratings in the test set. The predicted ratings are adjusted by the user's mean and then merged with the test data, with the final predictions rounded to one decimal point."
   ]
  },
  {
   "cell_type": "code",
   "execution_count": 16,
   "metadata": {},
   "outputs": [],
   "source": [
    "runtimes = []\n",
    "rmses = []"
   ]
  },
  {
   "cell_type": "code",
   "execution_count": 17,
   "metadata": {},
   "outputs": [],
   "source": [
    "start_time = time.time()\n",
    "\n",
    "# Split data into train and test sets\n",
    "train_df, test_df = train_test_split(ratings, test_size=0.4, random_state=5)\n",
    "\n",
    "# Calculate movie averages and center around these averages\n",
    "movie_averages = train_df.groupby('movieId')['rating'].mean()\n",
    "train_pivot = train_df.pivot(index='userId', columns='movieId', values='rating')\n",
    "movie_centered = train_pivot.sub(movie_averages, axis=1)\n",
    "\n",
    "# Calculate similarity matrix using Ullman method\n",
    "similarity_matrix = calculation_ullman(movie_centered.fillna(0))\n",
    "\n",
    "user_means = train_pivot.mean(axis=1).fillna(0)\n",
    "test_pivot = test_df.pivot(index='userId', columns='movieId', values='rating')\n",
    "test_predictions = prediction_ullman(similarity_matrix, movie_centered.fillna(0), user_means)\n",
    "\n",
    "# Converting test predictions back to DataFrame\n",
    "test_predictions_df = pd.DataFrame(test_predictions, index=test_pivot.index, columns=train_pivot.columns)\n",
    "\n",
    "\n",
    "test_df['predicted_rating'] = test_df.apply(\n",
    "    lambda x: test_predictions_df.loc[x['userId'], x['movieId']] \n",
    "    if x['movieId'] in test_predictions_df.columns and x['userId'] in test_predictions_df.index \n",
    "    else np.nan, \n",
    "    axis=1\n",
    ")\n",
    "\n",
    "# Round the predicted ratings to 1 decimal point\n",
    "test_df['predicted_rating'] = test_df['predicted_rating'].round(1)"
   ]
  },
  {
   "cell_type": "markdown",
   "metadata": {},
   "source": [
    "#### Saving Predictions and RMSE Calculation\n",
    "\n",
    "This code saves the test dataset with predicted ratings to a CSV file and calculates the RMSE. The runtime for the process is also measured and displayed, providing insights into the model's performance with a 60-40 train-test split."
   ]
  },
  {
   "cell_type": "code",
   "execution_count": 18,
   "metadata": {},
   "outputs": [
    {
     "name": "stdout",
     "output_type": "stream",
     "text": [
      "RMSE for 60% train and 40% test split using Ullman method: 0.9423\n",
      "Saved test data with predictions to ../Prediction_Results/ratings_predictions_40_cf.csv\n",
      "Runtime of the code is 9.01 seconds\n"
     ]
    }
   ],
   "source": [
    "# Save test_df with predictions to a CSV file\n",
    "test_df_filename = '../Prediction_Results/ratings_predictions_40_cf.csv'\n",
    "test_df.to_csv(test_df_filename)\n",
    "\n",
    "# Prepare data for RMSE calculation\n",
    "test_pivot_masked = test_pivot.where(~test_pivot.isna(), np.nan)\n",
    "test_predictions_masked = test_predictions_df.reindex_like(test_pivot_masked)\n",
    "\n",
    "# Compute RMSE\n",
    "rmse = calculate_rmse(test_pivot_masked.values.flatten(), test_predictions_masked.values.flatten())\n",
    "rmses.append(rmse)\n",
    "\n",
    "print(f'RMSE for 60% train and 40% test split using Ullman method: {rmse:.4f}')\n",
    "print(f'Saved test data with predictions to {test_df_filename}')\n",
    "end_time = time.time()\n",
    "runtime = end_time - start_time\n",
    "runtimes.append(runtime)\n",
    "print(\"Runtime of the code is {:.2f} seconds\".format(runtime))"
   ]
  },
  {
   "cell_type": "markdown",
   "metadata": {},
   "source": [
    "#### 70-30 train-test split"
   ]
  },
  {
   "cell_type": "code",
   "execution_count": 19,
   "metadata": {},
   "outputs": [],
   "source": [
    "start_time = time.time()\n",
    "\n",
    "# Split data into train and test sets\n",
    "train_df, test_df = train_test_split(ratings, test_size=0.3, random_state=5)\n",
    "\n",
    "# Calculate movie averages and center around these averages\n",
    "movie_averages = train_df.groupby('movieId')['rating'].mean()\n",
    "train_pivot = train_df.pivot(index='userId', columns='movieId', values='rating')\n",
    "movie_centered = train_pivot.sub(movie_averages, axis=1)\n",
    "\n",
    "# Calculate similarity matrix using Ullman method\n",
    "similarity_matrix = calculation_ullman(movie_centered.fillna(0))\n",
    "\n",
    "# Predict ratings for test set\n",
    "user_means = train_pivot.mean(axis=1).fillna(0)\n",
    "test_pivot = test_df.pivot(index='userId', columns='movieId', values='rating')\n",
    "test_predictions = prediction_ullman(similarity_matrix, movie_centered.fillna(0), user_means)\n",
    "\n",
    "# Convert test_predictions back to DataFrame\n",
    "test_predictions_df = pd.DataFrame(test_predictions, index=test_pivot.index, columns=train_pivot.columns)\n",
    "\n",
    "test_df['predicted_rating'] = test_df.apply(\n",
    "    lambda x: test_predictions_df.loc[x['userId'], x['movieId']] \n",
    "    if x['movieId'] in test_predictions_df.columns and x['userId'] in test_predictions_df.index \n",
    "    else np.nan, \n",
    "    axis=1\n",
    ")\n",
    "\n",
    "# Round the predicted ratings to 1 decimal point\n",
    "test_df['predicted_rating'] = test_df['predicted_rating'].round(1)"
   ]
  },
  {
   "cell_type": "markdown",
   "metadata": {},
   "source": [
    "Saving the predictions for 30% test data"
   ]
  },
  {
   "cell_type": "code",
   "execution_count": 20,
   "metadata": {},
   "outputs": [
    {
     "name": "stdout",
     "output_type": "stream",
     "text": [
      "RMSE for 70% train and 30% test split using Ullman method: 0.9391\n",
      "Saved test data with predictions to ../Prediction_Results/ratings_predictions_30_cf.csv\n",
      "Runtime of the code is 10.15 seconds\n"
     ]
    }
   ],
   "source": [
    "# Save test_df with predictions to a CSV file\n",
    "test_df_filename = '../Prediction_Results/ratings_predictions_30_cf.csv'\n",
    "test_df.to_csv(test_df_filename)\n",
    "\n",
    "# Prepare data for RMSE calculation\n",
    "test_pivot_masked = test_pivot.where(~test_pivot.isna(), np.nan)\n",
    "test_predictions_masked = test_predictions_df.reindex_like(test_pivot_masked)\n",
    "\n",
    "# Compute RMSE\n",
    "rmse = calculate_rmse(test_pivot_masked.values.flatten(), test_predictions_masked.values.flatten())\n",
    "rmses.append(rmse)\n",
    "print(f'RMSE for 70% train and 30% test split using Ullman method: {rmse:.4f}')\n",
    "print(f'Saved test data with predictions to {test_df_filename}')\n",
    "end_time = time.time()\n",
    "runtime = end_time - start_time\n",
    "runtimes.append(runtime)\n",
    "print(\"Runtime of the code is {:.2f} seconds\".format(runtime))"
   ]
  },
  {
   "cell_type": "markdown",
   "metadata": {},
   "source": [
    "#### 80-20 train-test split"
   ]
  },
  {
   "cell_type": "code",
   "execution_count": 21,
   "metadata": {},
   "outputs": [],
   "source": [
    "start_time = time.time()\n",
    "\n",
    "# Split data into train and test sets\n",
    "train_df, test_df = train_test_split(ratings, test_size=0.2, random_state=5)\n",
    "\n",
    "# Calculate movie averages and center around these averages\n",
    "movie_averages = train_df.groupby('movieId')['rating'].mean()\n",
    "train_pivot = train_df.pivot(index='userId', columns='movieId', values='rating')\n",
    "movie_centered = train_pivot.sub(movie_averages, axis=1)\n",
    "\n",
    "# Calculate similarity matrix using Ullman method\n",
    "similarity_matrix = calculation_ullman(movie_centered.fillna(0))\n",
    "\n",
    "# Predict ratings for test set\n",
    "user_means = train_pivot.mean(axis=1).fillna(0)\n",
    "test_pivot = test_df.pivot(index='userId', columns='movieId', values='rating')\n",
    "test_predictions = prediction_ullman(similarity_matrix, movie_centered.fillna(0), user_means)\n",
    "\n",
    "# Convert test_predictions back to DataFrame\n",
    "test_predictions_df = pd.DataFrame(test_predictions, index=test_pivot.index, columns=train_pivot.columns)\n",
    "\n",
    "# Map predictions to test_df\n",
    "test_df['predicted_rating'] = test_df.apply(\n",
    "    lambda x: test_predictions_df.loc[x['userId'], x['movieId']] \n",
    "    if x['movieId'] in test_predictions_df.columns and x['userId'] in test_predictions_df.index \n",
    "    else np.nan, \n",
    "    axis=1\n",
    ")\n",
    "# Round the predicted ratings to 1 decimal point\n",
    "test_df['predicted_rating'] = test_df['predicted_rating'].round(1)\n"
   ]
  },
  {
   "cell_type": "markdown",
   "metadata": {},
   "source": [
    "Saving the predictions for 20% test data"
   ]
  },
  {
   "cell_type": "code",
   "execution_count": 22,
   "metadata": {},
   "outputs": [
    {
     "name": "stdout",
     "output_type": "stream",
     "text": [
      "RMSE for 80% train and 20% test split using Ullman method: 0.9338\n",
      "Saved test data with predictions to ../Prediction_Results/ratings_predictions_20_cf.csv\n",
      "Runtime of the code is 9.46 seconds\n"
     ]
    }
   ],
   "source": [
    "# Save test_df with predictions to a CSV file\n",
    "test_df_filename = '../Prediction_Results/ratings_predictions_20_cf.csv'\n",
    "test_df.to_csv(test_df_filename)\n",
    "\n",
    "# Prepare data for RMSE calculation\n",
    "test_pivot_masked = test_pivot.where(~test_pivot.isna(), np.nan)\n",
    "test_predictions_masked = test_predictions_df.reindex_like(test_pivot_masked)\n",
    "\n",
    "# Compute RMSE\n",
    "rmse = calculate_rmse(test_pivot_masked.values.flatten(), test_predictions_masked.values.flatten())\n",
    "rmses.append(rmse)\n",
    "print(f'RMSE for 80% train and 20% test split using Ullman method: {rmse:.4f}')\n",
    "print(f'Saved test data with predictions to {test_df_filename}')\n",
    "end_time = time.time()\n",
    "runtime = end_time - start_time\n",
    "runtimes.append(runtime)\n",
    "print(\"Runtime of the code is {:.2f} seconds\".format(runtime))"
   ]
  },
  {
   "cell_type": "markdown",
   "metadata": {},
   "source": [
    "#### 90-10 train-test split"
   ]
  },
  {
   "cell_type": "code",
   "execution_count": 23,
   "metadata": {},
   "outputs": [],
   "source": [
    "start_time = time.time()\n",
    "\n",
    "# Split data into train and test sets\n",
    "train_df, test_df = train_test_split(ratings, test_size=0.1, random_state=5)\n",
    "\n",
    "# Calculate movie averages and center around these averages\n",
    "movie_averages = train_df.groupby('movieId')['rating'].mean()\n",
    "train_pivot = train_df.pivot(index='userId', columns='movieId', values='rating')\n",
    "movie_centered = train_pivot.sub(movie_averages, axis=1)\n",
    "\n",
    "# Calculate similarity matrix using Ullman method\n",
    "similarity_matrix = calculation_ullman(movie_centered.fillna(0))\n",
    "\n",
    "# Predict ratings for test set\n",
    "user_means = train_pivot.mean(axis=1).fillna(0)\n",
    "test_pivot = test_df.pivot(index='userId', columns='movieId', values='rating')\n",
    "# Align test_pivot with train_pivot\n",
    "test_pivot_aligned = test_pivot.reindex_like(train_pivot)\n",
    "\n",
    "# Predict ratings using Ullman method\n",
    "test_predictions = prediction_ullman(similarity_matrix, movie_centered.fillna(0), user_means)\n",
    "\n",
    "# Convert test_predictions back to DataFrame\n",
    "test_predictions_df = pd.DataFrame(test_predictions, index=train_pivot.index, columns=train_pivot.columns)\n",
    "\n",
    "# Align test_predictions_df with test_pivot_aligned\n",
    "test_predictions_aligned = test_predictions_df.reindex_like(test_pivot_aligned)\n",
    "\n",
    "# Map predictions to test_df\n",
    "test_df['predicted_rating'] = test_df.apply(\n",
    "    lambda x: test_predictions_aligned.loc[x['userId'], x['movieId']] \n",
    "    if x['movieId'] in test_predictions_aligned.columns and x['userId'] in test_predictions_aligned.index \n",
    "    else np.nan, \n",
    "    axis=1\n",
    ")\n",
    "\n",
    "# Round the predicted ratings to 1 decimal point\n",
    "test_df['predicted_rating'] = test_df['predicted_rating'].round(1)"
   ]
  },
  {
   "cell_type": "markdown",
   "metadata": {},
   "source": [
    "Saving the predictions for 10% test data"
   ]
  },
  {
   "cell_type": "code",
   "execution_count": 24,
   "metadata": {},
   "outputs": [
    {
     "name": "stdout",
     "output_type": "stream",
     "text": [
      "RMSE for 90% train and 10% test split using Ullman method: 0.9323\n",
      "Saved test data with predictions to ../Prediction_Results/ratings_predictions_10_cf.csv\n",
      "Runtime of the code is 7.94 seconds\n"
     ]
    }
   ],
   "source": [
    "# Save test_df with predictions to a CSV file\n",
    "test_df_filename = '../Prediction_Results/ratings_predictions_10_cf.csv'\n",
    "test_df.to_csv(test_df_filename)\n",
    "\n",
    "# Prepare data for RMSE calculation\n",
    "test_pivot_masked = test_pivot.where(~test_pivot.isna(), np.nan)\n",
    "test_predictions_masked = test_predictions_df.reindex_like(test_pivot_masked)\n",
    "\n",
    "# Compute RMSE\n",
    "rmse = calculate_rmse(test_pivot_masked.values.flatten(), test_predictions_masked.values.flatten())\n",
    "rmses.append(rmse)\n",
    "print(f'RMSE for 90% train and 10% test split using Ullman method: {rmse:.4f}')\n",
    "print(f'Saved test data with predictions to {test_df_filename}')\n",
    "end_time = time.time()\n",
    "runtime = end_time - start_time\n",
    "runtimes.append(runtime)\n",
    "print(\"Runtime of the code is {:.2f} seconds\".format(runtime))"
   ]
  },
  {
   "cell_type": "code",
   "execution_count": 25,
   "metadata": {},
   "outputs": [
    {
     "data": {
      "text/plain": [
       "[9.013173818588257, 10.153796434402466, 9.458108186721802, 7.936206340789795]"
      ]
     },
     "execution_count": 25,
     "metadata": {},
     "output_type": "execute_result"
    }
   ],
   "source": [
    "runtimes"
   ]
  },
  {
   "cell_type": "code",
   "execution_count": 26,
   "metadata": {},
   "outputs": [
    {
     "data": {
      "text/plain": [
       "[0.9423250059583147,\n",
       " 0.9391103806424793,\n",
       " 0.9338467051514422,\n",
       " 0.9323034515623083]"
      ]
     },
     "execution_count": 26,
     "metadata": {},
     "output_type": "execute_result"
    }
   ],
   "source": [
    "rmses"
   ]
  },
  {
   "cell_type": "markdown",
   "metadata": {},
   "source": [
    "#### Visualizing Runtimes based on the train test splits"
   ]
  },
  {
   "cell_type": "code",
   "execution_count": 27,
   "metadata": {},
   "outputs": [
    {
     "data": {
      "image/png": "[encoded data removed]",
      "text/plain": [
       "<Figure size 640x480 with 1 Axes>"
      ]
     },
     "metadata": {},
     "output_type": "display_data"
    }
   ],
   "source": [
    "# Data\n",
    "splits = [10, 20, 30, 40]\n",
    "\n",
    "# Creating scatter plot\n",
    "plt.scatter(runtimes, splits)\n",
    "plt.plot(runtimes, splits)  \n",
    "plt.grid(True)\n",
    "plt.xlabel('Runtime')\n",
    "plt.ylabel('Split Ratio')\n",
    "plt.title('Runtime vs Split Ratio')\n",
    "\n",
    "# Display the plot\n",
    "plt.show()\n"
   ]
  },
  {
   "cell_type": "markdown",
   "metadata": {},
   "source": [
    "The scatter plot shows the relationship between runtime and the train-test split ratio. As the split ratio increases from 10% to 40%, both the runtime and RMSE values decrease, indicating a slight reduction in computation time and prediction error as the training set size increases. This trend suggests that a larger training set (smaller test set) may lead to faster model performance, possibly due to reduced complexity in generating predictions, though the change is minimal within the tested split ratios."
   ]
  },
  {
   "cell_type": "markdown",
   "metadata": {},
   "source": [
    "#### Visualizing RMSE based on the train test splits"
   ]
  },
  {
   "cell_type": "code",
   "execution_count": 28,
   "metadata": {},
   "outputs": [
    {
     "data": {
      "image/png": "[encoded data removed]",
      "text/plain": [
       "<Figure size 640x480 with 1 Axes>"
      ]
     },
     "metadata": {},
     "output_type": "display_data"
    }
   ],
   "source": [
    "plt.scatter(rmses, splits)\n",
    "plt.plot(rmses, splits) \n",
    "plt.grid(True)\n",
    "plt.xlabel('RMSE')\n",
    "plt.ylabel('Split Ratio')\n",
    "plt.title('RMSE vs Split Ratio')\n",
    "\n",
    "# Display the plot\n",
    "plt.show()"
   ]
  },
  {
   "cell_type": "markdown",
   "metadata": {},
   "source": [
    "The scatter plot of RMSE versus split ratio shows a slight downward trend as the train-test split ratio increases from 10% to 40%. This indicates that as the training set size grows (with a smaller test set), the model's prediction accuracy improves, reflected by a decrease in RMSE. A larger training set provides the model with more data to learn from, potentially leading to better generalization and lower prediction error. However, the change in RMSE is not drastic, suggesting the model is fairly stable across different split ratios within the tested range."
   ]
  },
  {
   "cell_type": "markdown",
   "metadata": {},
   "source": [
    "#### Recommendations"
   ]
  },
  {
   "cell_type": "code",
   "execution_count": 29,
   "metadata": {},
   "outputs": [
    {
     "data": {
      "text/plain": [
       "'Movie recommendations for user 5:'"
      ]
     },
     "metadata": {},
     "output_type": "display_data"
    },
    {
     "data": {
      "text/html": [
       "<div>\n",
       "<style scoped>\n",
       "    .dataframe tbody tr th:only-of-type {\n",
       "        vertical-align: middle;\n",
       "    }\n",
       "\n",
       "    .dataframe tbody tr th {\n",
       "        vertical-align: top;\n",
       "    }\n",
       "\n",
       "    .dataframe thead th {\n",
       "        text-align: right;\n",
       "    }\n",
       "</style>\n",
       "<table border=\"1\" class=\"dataframe\">\n",
       "  <thead>\n",
       "    <tr style=\"text-align: right;\">\n",
       "      <th></th>\n",
       "      <th>Movie ID</th>\n",
       "      <th>Predicted Rating</th>\n",
       "      <th>Movie Title</th>\n",
       "    </tr>\n",
       "  </thead>\n",
       "  <tbody>\n",
       "    <tr>\n",
       "      <th>0</th>\n",
       "      <td>484</td>\n",
       "      <td>3.663241</td>\n",
       "      <td>Lassie (1994)</td>\n",
       "    </tr>\n",
       "    <tr>\n",
       "      <th>1</th>\n",
       "      <td>828</td>\n",
       "      <td>3.652661</td>\n",
       "      <td>Adventures of Pinocchio, The (1996)</td>\n",
       "    </tr>\n",
       "    <tr>\n",
       "      <th>2</th>\n",
       "      <td>617</td>\n",
       "      <td>3.651558</td>\n",
       "      <td>Flower of My Secret, The (La flor de mi secret...</td>\n",
       "    </tr>\n",
       "    <tr>\n",
       "      <th>3</th>\n",
       "      <td>142115</td>\n",
       "      <td>3.651050</td>\n",
       "      <td>The Blue Planet (2001)</td>\n",
       "    </tr>\n",
       "    <tr>\n",
       "      <th>4</th>\n",
       "      <td>6055</td>\n",
       "      <td>3.648182</td>\n",
       "      <td>Sugar Hill (1994)</td>\n",
       "    </tr>\n",
       "    <tr>\n",
       "      <th>5</th>\n",
       "      <td>97866</td>\n",
       "      <td>3.647735</td>\n",
       "      <td>Imposter, The (2012)</td>\n",
       "    </tr>\n",
       "    <tr>\n",
       "      <th>6</th>\n",
       "      <td>103107</td>\n",
       "      <td>3.645750</td>\n",
       "      <td>20 Feet from Stardom (Twenty Feet from Stardom...</td>\n",
       "    </tr>\n",
       "    <tr>\n",
       "      <th>7</th>\n",
       "      <td>4741</td>\n",
       "      <td>3.645064</td>\n",
       "      <td>Together (Tillsammans) (2000)</td>\n",
       "    </tr>\n",
       "    <tr>\n",
       "      <th>8</th>\n",
       "      <td>240</td>\n",
       "      <td>3.644663</td>\n",
       "      <td>Hideaway (1995)</td>\n",
       "    </tr>\n",
       "    <tr>\n",
       "      <th>9</th>\n",
       "      <td>2618</td>\n",
       "      <td>3.644326</td>\n",
       "      <td>Castle, The (1997)</td>\n",
       "    </tr>\n",
       "  </tbody>\n",
       "</table>\n",
       "</div>"
      ],
      "text/plain": [
       "   Movie ID  Predicted Rating  \\\n",
       "0       484          3.663241   \n",
       "1       828          3.652661   \n",
       "2       617          3.651558   \n",
       "3    142115          3.651050   \n",
       "4      6055          3.648182   \n",
       "5     97866          3.647735   \n",
       "6    103107          3.645750   \n",
       "7      4741          3.645064   \n",
       "8       240          3.644663   \n",
       "9      2618          3.644326   \n",
       "\n",
       "                                         Movie Title  \n",
       "0                                      Lassie (1994)  \n",
       "1                Adventures of Pinocchio, The (1996)  \n",
       "2  Flower of My Secret, The (La flor de mi secret...  \n",
       "3                             The Blue Planet (2001)  \n",
       "4                                  Sugar Hill (1994)  \n",
       "5                               Imposter, The (2012)  \n",
       "6  20 Feet from Stardom (Twenty Feet from Stardom...  \n",
       "7                      Together (Tillsammans) (2000)  \n",
       "8                                    Hideaway (1995)  \n",
       "9                                 Castle, The (1997)  "
      ]
     },
     "metadata": {},
     "output_type": "display_data"
    }
   ],
   "source": [
    "def recommend_movies_with_names(user_id, train_pivot, predictions_df, movies, n_recommendations=5):\n",
    "    rated_movies = train_pivot.loc[user_id].dropna().index.tolist()\n",
    "    user_predictions = predictions_df.loc[user_id].drop(rated_movies, errors='ignore')\n",
    "\n",
    "    top_movies = user_predictions.sort_values(ascending=False).head(n_recommendations)\n",
    "    recommendations = top_movies.reset_index().rename(columns={user_id: 'predicted_rating', 'movieId': 'movieId'})\n",
    "    recommendations = recommendations.merge(movies[['movieId', 'title']], on='movieId', how='left')\n",
    "    recommendations = recommendations.rename(columns={'title': 'Movie Title', 'predicted_rating': 'Predicted Rating', 'movieId': 'Movie ID'})\n",
    "    return recommendations\n",
    "\n",
    "# Recommendations of movies for the user\n",
    "user_id = 5\n",
    "recommendations_with_names = recommend_movies_with_names(user_id, train_pivot, test_predictions_df, movies, n_recommendations=10)\n",
    "display(f\"Movie recommendations for user {user_id}:\", recommendations_with_names)"
   ]
  }
 ],
 "metadata": {
  "kernelspec": {
   "display_name": "base",
   "language": "python",
   "name": "python3"
  },
  "language_info": {
   "codemirror_mode": {
    "name": "ipython",
    "version": 3
   },
   "file_extension": ".py",
   "mimetype": "text/x-python",
   "name": "python",
   "nbconvert_exporter": "python",
   "pygments_lexer": "ipython3",
   "version": "3.12.4"
  }
 },
 "nbformat": 4,
 "nbformat_minor": 2
}
